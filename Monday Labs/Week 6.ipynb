{
 "cells": [
  {
   "cell_type": "code",
   "execution_count": 39,
   "metadata": {},
   "outputs": [
    {
     "data": {
      "image/png": "[encoded data removed]",
      "text/plain": [
       "<Figure size 504x216 with 2 Axes>"
      ]
     },
     "metadata": {
      "needs_background": "light"
     },
     "output_type": "display_data"
    },
    {
     "name": "stdout",
     "output_type": "stream",
     "text": [
      "9753 samples were >0.55. P(X>0.55)=0.9753\n"
     ]
    }
   ],
   "source": [
    "import numpy as np\n",
    "import matplotlib.pyplot as plt\n",
    "from scipy.stats import uniform, norm, crystalball, maxwell\n",
    "import seaborn as sns \n",
    "\n",
    "Means = []\n",
    "Musize = int(1e4)\n",
    "\n",
    "size = 30\\\n",
    "\n",
    "for i in range(Musize):\n",
    "    samples1 = uniform.rvs(size=size)\n",
    "    samples2 = crystalball.rvs(beta = 3, m = 5, size=size)\n",
    "    samples3 = maxwell.rvs(size=size)\n",
    "    samples = np.concatenate((samples1, samples2, samples3))\n",
    "    mu = np.mean(samples)\n",
    "    Means.append(mu)\n",
    "\n",
    "fig,(ax1, ax2)=plt.subplots(1,2,figsize=(7,3))\n",
    "x1 = np.linspace(0,1)\n",
    "pdf = uniform.pdf(x1)\n",
    "ax1.plot(x1, pdf)\n",
    "ax1.set_title(f'Uniform on [0,1]') \n",
    "ax1.grid('on')\n",
    "\n",
    "sns.histplot(Means, bins=20, \n",
    "             stat = 'density', ax=ax2)\n",
    "ax2.set_title(f'Distribution of sample mean') \n",
    "x2 = np.linspace(-1, max(Means))\n",
    "ax2.set_ylabel('')\n",
    "MU = np.mean(Means)\n",
    "SIG = np.sqrt(np.var(Means, ddof=1))\n",
    "y2 = norm.pdf(x2, MU, SIG) \n",
    "ax2.plot(x2,y2, 'r')\n",
    "ax2.grid('on')\n",
    "\n",
    "plt.show()\n",
    "\n",
    "Mcount = sum(i > 0.55 for i in Means)\n",
    "Ans = Mcount/Musize\n",
    "print(f'{Mcount} samples were >0.55. '\n",
    "      f'P(X>0.55)={Ans}')\n"
   ]
  },
  {
   "cell_type": "code",
   "execution_count": 20,
   "metadata": {},
   "outputs": [
    {
     "data": {
      "text/plain": [
       "1.7247225178684977"
      ]
     },
     "execution_count": 20,
     "metadata": {},
     "output_type": "execute_result"
    }
   ],
   "source": [
    "MU, SIG # = 0.500, 0.0291\n",
    "\n",
    "z0 = (0.55-MU)/SIG\n",
    "z0"
   ]
  },
  {
   "cell_type": "code",
   "execution_count": 19,
   "metadata": {},
   "outputs": [
    {
     "data": {
      "text/plain": [
       "422"
      ]
     },
     "execution_count": 19,
     "metadata": {},
     "output_type": "execute_result"
    }
   ],
   "source": [
    "sum(np.array(Means) > 0.55)"
   ]
  },
  {
   "cell_type": "code",
   "execution_count": 22,
   "metadata": {},
   "outputs": [
    {
     "data": {
      "text/plain": [
       "0.04228874548483241"
      ]
     },
     "execution_count": 22,
     "metadata": {},
     "output_type": "execute_result"
    }
   ],
   "source": [
    "1-norm.cdf(z0)"
   ]
  },
  {
   "cell_type": "code",
   "execution_count": null,
   "metadata": {},
   "outputs": [],
   "source": []
  }
 ],
 "metadata": {
  "interpreter": {
   "hash": "6339e4209cfe5b4130cb53a5ecf3f524526742f77ad808de8ef683f539ebf6f9"
  },
  "kernelspec": {
   "display_name": "Python 3.9.7",
   "language": "python",
   "name": "python3"
  },
  "language_info": {
   "codemirror_mode": {
    "name": "ipython",
    "version": 3
   },
   "file_extension": ".py",
   "mimetype": "text/x-python",
   "name": "python",
   "nbconvert_exporter": "python",
   "pygments_lexer": "ipython3",
   "version": "3.9.7"
  },
  "orig_nbformat": 4
 },
 "nbformat": 4,
 "nbformat_minor": 2
}

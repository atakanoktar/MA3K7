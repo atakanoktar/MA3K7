{
 "cells": [
  {
   "cell_type": "code",
   "execution_count": 4,
   "metadata": {},
   "outputs": [
    {
     "name": "stdout",
     "output_type": "stream",
     "text": [
      "Using matplotlib backend: MacOSX\n"
     ]
    }
   ],
   "source": [
    "#partial sum\n",
    "import numpy as np\n",
    "import matplotlib.pyplot as plt\n",
    "from matplotlib.widgets import Slider\n",
    "from scipy.special import factorial\n",
    "%matplotlib\n",
    "\n",
    "k = 1\n",
    "X = np.linspace(0, 3, 100)\n",
    "\n",
    "\n",
    "def f(k):\n",
    "    s_k = []\n",
    "    n = np.arange(0,k+1)\n",
    "    for x in X:\n",
    "        s = sum(x**n/factorial(n))\n",
    "        s_k.append(s)\n",
    "    return s_k\n",
    "\n",
    "\n",
    "fig, ax = plt.subplots()\n",
    "plt.subplots_adjust(bottom=0.2)\n",
    "plt.grid('on')\n",
    "plt.ylim([0,20])\n",
    "\n",
    "plt.plot(X, np.exp(X), 'r-')\n",
    "P, = plt.plot(X, f(k))\n",
    "\n",
    "slider_dim = plt.axes([0.15, 0.1, 0.7, 0.02])\n",
    "k_slide = Slider(slider_dim, '$k$', 0, 8,\n",
    "                 valstep=1, valinit=k)\n",
    "\n",
    "\n",
    "def update(val):\n",
    "    k = k_slide.val\n",
    "    P.set_ydata(f(k))\n",
    "    fig.canvas.draw_idle()\n",
    "\n",
    "\n",
    "k_slide.on_changed(update)\n",
    "\n",
    "plt.show()\n"
   ]
  },
  {
   "cell_type": "code",
   "execution_count": 5,
   "metadata": {},
   "outputs": [
    {
     "name": "stdout",
     "output_type": "stream",
     "text": [
      "Using matplotlib backend: MacOSX\n"
     ]
    }
   ],
   "source": [
    "#rotation\n",
    "import numpy as np\n",
    "import matplotlib.pyplot as plt\n",
    "from matplotlib.widgets import Slider\n",
    "%matplotlib\n",
    "\n",
    "O = np.array([0, 0])\n",
    "A = np.array([1, 0])\n",
    "B = np.array([1, 1])\n",
    "C = np.array([0, 1])\n",
    "\n",
    "fig, ax = plt.subplots()\n",
    "plt.subplots_adjust(bottom=0.15)\n",
    "plt.axis('square')\n",
    "\n",
    "\n",
    "def vecplot(start, end, colour, alpha=1):\n",
    "    vec = end-start\n",
    "    ax.quiver(*start, *vec, color=colour,\n",
    "              alpha=alpha, angles='xy',\n",
    "              scale_units='xy', scale=1,\n",
    "              headaxislength=0, headwidth=0,\n",
    "              headlength=0)\n",
    "    return\n",
    "\n",
    "\n",
    "def transform(t):\n",
    "    ax.clear()\n",
    "    vecplot(O, A, 'r', 0.4)\n",
    "    vecplot(A, B, 'b', 0.4)\n",
    "    vecplot(B, C, 'k', 0.4)\n",
    "    vecplot(C, O, 'g', 0.4)\n",
    "\n",
    "    s, c = np.sin(t), np.cos(t)\n",
    "    M = np.array([[c, -s], [s, c]]) #rotate about origin\n",
    "    #M = np.array([[1, t], [0, 1]]) #shear along x axis\n",
    "    #M = np.array([[t, 0], [0, 1]]) #scale along x axis\n",
    "\n",
    "    At = M@A\n",
    "    Bt = M@B\n",
    "    Ct = M@C\n",
    "\n",
    "    vecplot(O, At, 'r')\n",
    "    vecplot(At, Bt, 'b')\n",
    "    vecplot(Bt, Ct, 'k')\n",
    "    vecplot(Ct, O, 'g')\n",
    "\n",
    "    ax.axis([-1.5, 1.5, -1.5, 1.5])\n",
    "    ax.grid('on')\n",
    "    return\n",
    "\n",
    "\n",
    "transform(0)\n",
    "axt = plt.axes([0.23, 0.05, 0.55, 0.02])\n",
    "t_slide = Slider(axt, 't', -2*np.pi, 2*np.pi,\n",
    "                 valstep=0.02, valinit=0)\n",
    "\n",
    "\n",
    "def update(val):\n",
    "    t = t_slide.val\n",
    "    transform(t)\n",
    "\n",
    "\n",
    "t_slide.on_changed(update)\n",
    "\n",
    "plt.show()\n"
   ]
  },
  {
   "cell_type": "code",
   "execution_count": null,
   "metadata": {},
   "outputs": [],
   "source": []
  }
 ],
 "metadata": {
  "interpreter": {
   "hash": "6339e4209cfe5b4130cb53a5ecf3f524526742f77ad808de8ef683f539ebf6f9"
  },
  "kernelspec": {
   "display_name": "Python 3.9.7",
   "language": "python",
   "name": "python3"
  },
  "language_info": {
   "codemirror_mode": {
    "name": "ipython",
    "version": 3
   },
   "file_extension": ".py",
   "mimetype": "text/x-python",
   "name": "python",
   "nbconvert_exporter": "python",
   "pygments_lexer": "ipython3",
   "version": "3.9.7"
  },
  "orig_nbformat": 4
 },
 "nbformat": 4,
 "nbformat_minor": 2
}

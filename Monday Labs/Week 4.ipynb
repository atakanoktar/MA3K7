{
 "cells": [
  {
   "cell_type": "code",
   "execution_count": 14,
   "metadata": {},
   "outputs": [
    {
     "name": "stdout",
     "output_type": "stream",
     "text": [
      "|||||||||| 10 left\n",
      "Bot's turn: 1 removed\n",
      "||||||||| 9 left\n",
      "|||||||| 8 left\n",
      "Bot's turn: 3 removed\n",
      "||||| 5 left\n",
      "|||| 4 left\n",
      "Bot's turn: 3 removed\n",
      "| 1 left\n",
      "You lose!\n"
     ]
    }
   ],
   "source": [
    "import numpy as np\n",
    "\n",
    "rng = np.random.default_rng()\n",
    "\n",
    "sticks = 10\n",
    "\n",
    "print('|'*sticks, f'{sticks} left')\n",
    "\n",
    "def check(x, sticks):\n",
    "    while True:\n",
    "        if not (1 <= x <= min(sticks - 1, 3)):\n",
    "            print('PLEASE! Pick a better number')\n",
    "            x = int(input('Your turn: How many to remove (up to 3)'))\n",
    "        else:\n",
    "            return x\n",
    "\n",
    "def strategy(sticks):\n",
    "    N = sticks % 4 \n",
    "    if N == 1:\n",
    "        rng.integers(1, min(sticks, 4))\n",
    "    else:\n",
    "        x = (N-1) % 4\n",
    "        return x \n",
    " \n",
    "\n",
    "def game(myturn):\n",
    "    global sticks\n",
    "    if myturn == 1:\n",
    "        x = int(input('Your turn: How many to remove (up to 3)?'))\n",
    "        x = check(x,sticks)\n",
    "        sticks = sticks - x\n",
    "        print('|'*sticks, f'{sticks} left')\n",
    "        if sticks == 1:\n",
    "            print('You win!')\n",
    "            return 0\n",
    "        game(0)\n",
    "\n",
    "    else:\n",
    "        x = strategy(sticks)    \n",
    "        print(f\"Bot's turn: {x} removed\")\n",
    "        sticks = sticks - x\n",
    "        print('|'*sticks, f'{sticks} left')\n",
    "        if sticks == 1:\n",
    "            print('You lose!')\n",
    "            return 0\n",
    "        game(1)\n",
    "\n",
    "\n",
    "myturn = 0  # 1 = player starts first, 0 = bot starts first\n",
    "\n",
    "game(myturn)\n"
   ]
  }
 ],
 "metadata": {
  "interpreter": {
   "hash": "6339e4209cfe5b4130cb53a5ecf3f524526742f77ad808de8ef683f539ebf6f9"
  },
  "kernelspec": {
   "display_name": "Python 3.9.7 ('base')",
   "language": "python",
   "name": "python3"
  },
  "language_info": {
   "codemirror_mode": {
    "name": "ipython",
    "version": 3
   },
   "file_extension": ".py",
   "mimetype": "text/x-python",
   "name": "python",
   "nbconvert_exporter": "python",
   "pygments_lexer": "ipython3",
   "version": "3.9.7"
  },
  "orig_nbformat": 4
 },
 "nbformat": 4,
 "nbformat_minor": 2
}

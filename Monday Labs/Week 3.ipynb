{
 "cells": [
  {
   "cell_type": "code",
   "execution_count": 63,
   "metadata": {},
   "outputs": [],
   "source": [
    "import numpy as np\n",
    "import matplotlib.pyplot as plt\n",
    "import scipy.linalg as LA\n",
    "\n",
    "\n",
    "rng = np.random.default_rng()\n",
    "samples = 1e5\n",
    "Det = []\n",
    "\n",
    "for i in np.arange(samples):\n",
    "    A = rng.integers(0, 2, (3, 3))\n",
    "    detA = LA.det(A)\n",
    "    Det.append(detA)\n",
    "\n",
    "\n",
    "Max = max(Det)\n",
    "Min = min(Det)\n",
    "bins = np.arange(Min, Max+2) - 0.5\n",
    "\n",
    "plt.hist(Det, bins=bins, density=True)\n",
    "plt.grid()\n",
    "plt.xlabel('Det A')\n",
    "plt.ylabel('Probability')\n",
    "plt.show()\n"
   ]
  },
  {
   "cell_type": "code",
   "execution_count": null,
   "metadata": {},
   "outputs": [],
   "source": []
  }
 ],
 "metadata": {
  "interpreter": {
   "hash": "6339e4209cfe5b4130cb53a5ecf3f524526742f77ad808de8ef683f539ebf6f9"
  },
  "kernelspec": {
   "display_name": "Python 3.9.7 ('base')",
   "language": "python",
   "name": "python3"
  },
  "language_info": {
   "codemirror_mode": {
    "name": "ipython",
    "version": 3
   },
   "file_extension": ".py",
   "mimetype": "text/x-python",
   "name": "python",
   "nbconvert_exporter": "python",
   "pygments_lexer": "ipython3",
   "version": "3.9.7"
  },
  "orig_nbformat": 4
 },
 "nbformat": 4,
 "nbformat_minor": 2
}

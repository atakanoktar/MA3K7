{
 "cells": [
  {
   "cell_type": "code",
   "execution_count": 9,
   "metadata": {},
   "outputs": [
    {
     "name": "stdout",
     "output_type": "stream",
     "text": [
      "[ 1.61803399+0.j -0.61803399+0.j]\n"
     ]
    }
   ],
   "source": [
    "import numpy as np \n",
    "import sympy as sp \n",
    "from sympy.abc import m #m is the unknown var\n",
    "from scipy import linalg as LA\n",
    "\n",
    "#symbolic solutions\n",
    "M = sp.solve(m**2-m-1, m)\n",
    "M \n",
    "\n",
    "#numerical solutions\n",
    "A = np.array([[1,1],[1,0]])\n",
    "lam, P = LA.eig(A)\n",
    "lam\n"
   ]
  },
  {
   "cell_type": "code",
   "execution_count": 20,
   "metadata": {},
   "outputs": [
    {
     "name": "stdout",
     "output_type": "stream",
     "text": [
      "[2, 3, 11, 9, 47, 33, 191, 129, 767, 513, 3071, 2049, 12287, 8193, 49151, 32769, 196607, 131073, 786431, 524289, 3145727]\n"
     ]
    },
    {
     "data": {
      "image/png": "[encoded data removed]",
      "text/plain": [
       "<Figure size 432x288 with 1 Axes>"
      ]
     },
     "metadata": {
      "needs_background": "light"
     },
     "output_type": "display_data"
    }
   ],
   "source": [
    "#task 1 by reccurence relation\n",
    "\n",
    "import matplotlib.pyplot as plt \n",
    "\n",
    "a0 = 2\n",
    "a1 = 3\n",
    "a2 = 11\n",
    "\n",
    "seq = [a0, a1, a2]\n",
    "seqlength = 20\n",
    "\n",
    "for i in range(seqlength-2):\n",
    "    nextterm = -seq[-1] + 4*seq[-2] + 4*seq[-3]\n",
    "    seq.append(nextterm)\n",
    "    i +=1\n",
    "\n",
    "print(seq)\n",
    "\n",
    "plt.semilogy(seq)\n",
    "plt.grid()\n",
    "plt.show()\n",
    "\n",
    "# so a20 = 3145727\n"
   ]
  },
  {
   "cell_type": "code",
   "execution_count": 22,
   "metadata": {},
   "outputs": [
    {
     "data": {
      "text/latex": [
       "$\\displaystyle - \\left(-1\\right)^{k} + \\left(-2\\right)^{k} + 2 \\cdot 2^{k}$"
      ],
      "text/plain": [
       "-(-1)**k + (-2)**k + 2*2**k"
      ]
     },
     "execution_count": 22,
     "metadata": {},
     "output_type": "execute_result"
    }
   ],
   "source": [
    "#task 1 by method of characteristics\n",
    "\n",
    "from sympy.abc import x, y, z, k\n",
    "\n",
    "M = sp.solve(m**3+m**2-4*m-4, m)\n",
    "M\n",
    "\n",
    "A = sp.Matrix([[1, 1, 1], [M[0], M[1], M[2]], [M[0]**2, M[1]**2, M[2]**2]])\n",
    "b = sp.Matrix([2,3,11])\n",
    "C, = sp.linsolve((A,b), x, y, z)\n",
    "\n",
    "def an(n):\n",
    "    return sum(C[i]*M[i]**n for i in range(3))\n",
    "\n",
    "\n",
    "an(k)\n"
   ]
  },
  {
   "cell_type": "code",
   "execution_count": null,
   "metadata": {},
   "outputs": [],
   "source": []
  }
 ],
 "metadata": {
  "interpreter": {
   "hash": "6339e4209cfe5b4130cb53a5ecf3f524526742f77ad808de8ef683f539ebf6f9"
  },
  "kernelspec": {
   "display_name": "Python 3.9.7",
   "language": "python",
   "name": "python3"
  },
  "language_info": {
   "codemirror_mode": {
    "name": "ipython",
    "version": 3
   },
   "file_extension": ".py",
   "mimetype": "text/x-python",
   "name": "python",
   "nbconvert_exporter": "python",
   "pygments_lexer": "ipython3",
   "version": "3.9.7"
  },
  "orig_nbformat": 4
 },
 "nbformat": 4,
 "nbformat_minor": 2
}

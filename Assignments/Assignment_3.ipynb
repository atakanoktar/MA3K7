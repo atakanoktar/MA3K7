{
 "cells": [
  {
   "cell_type": "code",
   "execution_count": 159,
   "metadata": {},
   "outputs": [
    {
     "data": {
      "image/png": "[encoded data removed]",
      "text/plain": [
       "<Figure size 576x360 with 1 Axes>"
      ]
     },
     "metadata": {
      "needs_background": "light"
     },
     "output_type": "display_data"
    }
   ],
   "source": [
    "#import libraries\n",
    "import numpy as np\n",
    "import matplotlib.pyplot as plt \n",
    "import random\n",
    "from matplotlib.pyplot import figure\n",
    "\n",
    "figure(figsize=(8,5))\n",
    "\n",
    "\n",
    "#function to run the process\n",
    "def play(size):\n",
    "\n",
    "    #creating list for the hat\n",
    "    hat = []\n",
    "\n",
    "    #create a hat containing size numbers\n",
    "    for i in range(1, size+1):\n",
    "        hat.append(i)\n",
    "\n",
    "    #while loop to run the algorithm until we reach the final number\n",
    "    while not size == 1:\n",
    "        a, b = random.sample(range(size), 2)\n",
    "        newnum = np.abs(hat[a] - hat[b])\n",
    "        if a > b:\n",
    "            hat.pop(a)\n",
    "            hat.pop(b)\n",
    "        else:\n",
    "            hat.pop(b)\n",
    "            hat.pop(a)\n",
    "        hat.append(newnum)\n",
    "        size = len(hat)\n",
    "    finalnum.append(hat[0])\n",
    "\n",
    "\n",
    "#list of all the final numbers after calling the function\n",
    "finalnum = []\n",
    "\n",
    "#size of the hat\n",
    "size = 20\n",
    "\n",
    "#play the game repeatedly\n",
    "for i in range(500):\n",
    "    play(size)\n",
    "\n",
    "#plot a frequency histogram of the results\n",
    "plt.hist(finalnum, bins=[x for i in range(size+1)\n",
    "         for x in (i-0.4, i+0.4)], color='#144be3')\n",
    "plt.xticks(range(size+1))\n",
    "plt.xlabel('Final number remaining')\n",
    "plt.ylabel('Frequency')\n",
    "plt.grid()\n",
    "plt.show()\n"
   ]
  },
  {
   "cell_type": "code",
   "execution_count": 186,
   "metadata": {},
   "outputs": [
    {
     "data": {
      "image/png": "[encoded data removed]",
      "text/plain": [
       "<Figure size 432x288 with 1 Axes>"
      ]
     },
     "metadata": {
      "needs_background": "light"
     },
     "output_type": "display_data"
    }
   ],
   "source": [
    "#creating the extension game\n",
    "def playextension(size):\n",
    "\n",
    "    #creating list for the hat\n",
    "    hat = []\n",
    "\n",
    "    #create a hat containing size numbers\n",
    "    for i in range(1, size+1):\n",
    "        hat.append(i)\n",
    "\n",
    "    #while loop to run the algorithm until we reach the final number\n",
    "    while not size == 1:\n",
    "        a, b = random.sample(range(size), 2)\n",
    "        newnum = hat[a] - hat[b]\n",
    "        if a > b:\n",
    "            hat.pop(a)\n",
    "            hat.pop(b)\n",
    "        else:\n",
    "            hat.pop(b)\n",
    "            hat.pop(a)\n",
    "        hat.append(newnum)\n",
    "        size = len(hat)\n",
    "    finalnum.append(hat[0])\n",
    "\n",
    "\n",
    "#list of all the final numbers after calling the function\n",
    "finalnum = []\n",
    "\n",
    "#size of the hat\n",
    "size = 10\n",
    "\n",
    "#play the game repeatedly\n",
    "for i in range(500):\n",
    "    playextension(size)\n",
    "\n",
    "#plot a frequency histogram of the results\n",
    "plt.hist(finalnum, bins=[x for i in range(-50, size+1)\n",
    "         for x in (i-0.4, i+0.4)], color='#144be3')\n",
    "plt.xlabel('Final number remaining')\n",
    "plt.ylabel('Frequency')\n",
    "plt.grid()\n",
    "plt.show()\n"
   ]
  },
  {
   "cell_type": "code",
   "execution_count": null,
   "metadata": {},
   "outputs": [],
   "source": []
  }
 ],
 "metadata": {
  "interpreter": {
   "hash": "6339e4209cfe5b4130cb53a5ecf3f524526742f77ad808de8ef683f539ebf6f9"
  },
  "kernelspec": {
   "display_name": "Python 3.9.7",
   "language": "python",
   "name": "python3"
  },
  "language_info": {
   "codemirror_mode": {
    "name": "ipython",
    "version": 3
   },
   "file_extension": ".py",
   "mimetype": "text/x-python",
   "name": "python",
   "nbconvert_exporter": "python",
   "pygments_lexer": "ipython3",
   "version": "3.9.7"
  },
  "orig_nbformat": 4
 },
 "nbformat": 4,
 "nbformat_minor": 2
}

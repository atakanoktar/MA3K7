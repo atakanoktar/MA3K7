{
 "cells": [
  {
   "cell_type": "code",
   "execution_count": 76,
   "metadata": {},
   "outputs": [],
   "source": [
    "#import libraries\n",
    "import numpy as np \n",
    "import random\n",
    "import matplotlib.pyplot as plt "
   ]
  },
  {
   "cell_type": "code",
   "execution_count": 97,
   "metadata": {},
   "outputs": [
    {
     "data": {
      "image/png": "[encoded data removed]",
      "text/plain": [
       "<Figure size 432x288 with 1 Axes>"
      ]
     },
     "metadata": {
      "needs_background": "light"
     },
     "output_type": "display_data"
    },
    {
     "data": {
      "text/plain": [
       "<Figure size 576x144 with 0 Axes>"
      ]
     },
     "metadata": {},
     "output_type": "display_data"
    }
   ],
   "source": [
    "#generate the path start\n",
    "path = [1]\n",
    "\n",
    "#function to play out the game and add to path\n",
    "def play(max):\n",
    "    while path[-1] <= max:\n",
    "        A = random.sample(range(1, 3), 1)\n",
    "        path.append(A[0] + path[-1])\n",
    "    return  path\n",
    "\n",
    "#play the game to desired length N\n",
    "N = 25\n",
    "path = play(N)\n",
    "\n",
    "#generate the template array of the desired shape and length\n",
    "array = np.arange(1, N+1).reshape(1, -1)\n",
    "\n",
    "#create a template that indicates which indexes in temp should be coloured (set as True)\n",
    "temp = np.zeros_like(array, dtype=bool)\n",
    "adjustedpath = np.array([i-1 for i in path if i-1 < N])\n",
    "temp[:, adjustedpath] = True\n",
    "\n",
    "# Plot the array\n",
    "plt.imshow(temp, cmap='Blues' , alpha= 0.4)\n",
    "\n",
    "# Add the labels\n",
    "for ind, x in np.ndenumerate(array):\n",
    "    plt.text(s=str(x), x=ind[1], y=ind[0], va='center', ha='center')\n",
    "\n",
    "# Customize the plot\n",
    "plt.axis('off')\n",
    "plt.figure(figsize=(8,2))\n",
    "plt.show()\n"
   ]
  },
  {
   "cell_type": "code",
   "execution_count": 96,
   "metadata": {},
   "outputs": [
    {
     "name": "stdout",
     "output_type": "stream",
     "text": [
      "0.6666666865348816\n"
     ]
    },
    {
     "data": {
      "image/png": "[encoded data removed]",
      "text/plain": [
       "<Figure size 432x288 with 1 Axes>"
      ]
     },
     "metadata": {
      "needs_background": "light"
     },
     "output_type": "display_data"
    }
   ],
   "source": [
    "#define the first two terms of the sequence\n",
    "a0 = 1\n",
    "a1 = 0.5\n",
    "\n",
    "#create the sequence array and define a length\n",
    "seq = [a0, a1]\n",
    "seqlength = 25\n",
    "\n",
    "#iterate through \n",
    "for i in range(seqlength-2):\n",
    "    nextterm = 0.5*(seq[-1] + seq[-2])\n",
    "    seq.append(nextterm)\n",
    "    i += 1\n",
    "\n",
    "#print the last term of the sequence \n",
    "print(seq[-1])\n",
    "\n",
    "#plot the sequence\n",
    "plt.plot(seq, 'r-')\n",
    "plt.grid()\n",
    "plt.ylim((0,1))\n",
    "plt.ylabel('$P(N)$')\n",
    "plt.xlabel('$N$')\n",
    "plt.show()\n"
   ]
  },
  {
   "cell_type": "code",
   "execution_count": 115,
   "metadata": {},
   "outputs": [
    {
     "data": {
      "image/png": "[encoded data removed]",
      "text/plain": [
       "<Figure size 432x288 with 1 Axes>"
      ]
     },
     "metadata": {
      "needs_background": "light"
     },
     "output_type": "display_data"
    }
   ],
   "source": [
    "#extension problem\n",
    "def game(toss):\n",
    "    A = np.random.choice([-1, 1], size=toss)\n",
    "    path = np.cumsum(A)\n",
    "    return path\n",
    "\n",
    "#number of tosses\n",
    "toss = 25\n",
    "\n",
    "#play out the game\n",
    "simulations = 10000\n",
    "paths = np.array([game(toss) for i in range(simulations)])\n",
    "\n",
    "#calculate the probability distribution\n",
    "cards = np.arange(-toss, toss + 1)\n",
    "dist = np.mean((walks[:, :, np.newaxis] == cards).any(axis=1), axis=0)\n",
    "\n",
    "#plot the distributino\n",
    "plt.plot(cards, dist, 'r-')\n",
    "plt.xlabel('$N$')\n",
    "plt.ylabel('$P(N)$')\n",
    "plt.ylim((0,1))\n",
    "plt.grid(True)\n",
    "plt.show()\n"
   ]
  },
  {
   "cell_type": "code",
   "execution_count": null,
   "metadata": {},
   "outputs": [],
   "source": []
  }
 ],
 "metadata": {
  "interpreter": {
   "hash": "6339e4209cfe5b4130cb53a5ecf3f524526742f77ad808de8ef683f539ebf6f9"
  },
  "kernelspec": {
   "display_name": "Python 3.9.7",
   "language": "python",
   "name": "python3"
  },
  "language_info": {
   "codemirror_mode": {
    "name": "ipython",
    "version": 3
   },
   "file_extension": ".py",
   "mimetype": "text/x-python",
   "name": "python",
   "nbconvert_exporter": "python",
   "pygments_lexer": "ipython3",
   "version": "3.9.7"
  },
  "orig_nbformat": 4
 },
 "nbformat": 4,
 "nbformat_minor": 2
}

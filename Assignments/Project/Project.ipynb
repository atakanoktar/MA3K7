{
 "cells": [
  {
   "cell_type": "markdown",
   "metadata": {},
   "source": [
    "Creating a simulation for the cases where all collisions are forced."
   ]
  },
  {
   "cell_type": "code",
   "execution_count": 1,
   "metadata": {},
   "outputs": [
    {
     "name": "stdout",
     "output_type": "stream",
     "text": [
      "Using matplotlib backend: MacOSX\n"
     ]
    },
    {
     "data": {
      "text/plain": [
       "[[4, 1, 0], [3, 0, 1], [2, 1, 0], [1, 0, 1], [0, 1, 0]]"
      ]
     },
     "execution_count": 1,
     "metadata": {},
     "output_type": "execute_result"
    }
   ],
   "source": [
    "#import libraries \n",
    "import numpy as np \n",
    "import matplotlib.pyplot as plt \n",
    "import matplotlib.ticker as ticker\n",
    "import random\n",
    "import pandas as pd\n",
    "from matplotlib.animation import FuncAnimation\n",
    "%matplotlib\n",
    "\n",
    "plt.rcParams['animation.ffmpeg_path'] = '/opt/homebrew/Cellar/ffmpeg/6.1.1_6'\n",
    "\n",
    "#function for simulating the forced collisions\n",
    "def simulate_forced(a,b,c):\n",
    "    #box to keep track of particles at each step of simulation\n",
    "    box = []\n",
    "\n",
    "    box.append([a, b, c])\n",
    "    while a*b != 0 or a*c != 0 or b*c != 0:\n",
    "        if a == 0:\n",
    "            b -= 1\n",
    "            c -= 1\n",
    "            a += 1\n",
    "            box.append([a, b, c])\n",
    "        elif b == 0:\n",
    "            a -= 1\n",
    "            c -= 1\n",
    "            b += 1\n",
    "            box.append([a, b, c])\n",
    "        elif c == 0:\n",
    "            a -= 1\n",
    "            b -= 1\n",
    "            c += 1\n",
    "            box.append([a, b, c])\n",
    "    return box\n",
    "\n",
    "\n",
    "#run simulation\n",
    "simulate_forced(4,1,0)\n"
   ]
  },
  {
   "cell_type": "markdown",
   "metadata": {},
   "source": [
    "Visualising the final remaining particle for (a, 1, 0) where a iterates through the first 100 odd numbers."
   ]
  },
  {
   "cell_type": "code",
   "execution_count": 2,
   "metadata": {},
   "outputs": [],
   "source": [
    "#create list to store the final remaining particle type\n",
    "remaining_particle = []\n",
    "\n",
    "#simulate many times and record results\n",
    "for i in range(100):\n",
    "    result = simulate_forced(2*i +1 , 1, 0)[-1] #intial setup of the box\n",
    "    if result[0] > 0:\n",
    "        remaining_particle.append('A')\n",
    "    elif result[1] > 0:\n",
    "        remaining_particle.append('B')\n",
    "    elif result[2] > 0:\n",
    "        remaining_particle.append('C')\n",
    "\n",
    "#plot some graph on the final remaining particle\n",
    "plt.bar(['A', 'B', 'C'], [remaining_particle.count('A'), remaining_particle.count(\n",
    "    'B'), remaining_particle.count('C')], color='#144be3')\n",
    "plt.xlabel('Species')\n",
    "plt.ylabel('Frequency')\n",
    "plt.title('Remaining particles for odd $a$')\n",
    "plt.grid()\n",
    "plt.show()\n"
   ]
  },
  {
   "cell_type": "markdown",
   "metadata": {},
   "source": [
    "Creating a function to simulate a box with random collisions."
   ]
  },
  {
   "cell_type": "code",
   "execution_count": 19,
   "metadata": {},
   "outputs": [],
   "source": [
    "#function to simulate the random collisions, repeating col times\n",
    "def simulate_random(box, col):\n",
    "    results = [[box[0], box[1], box[2]]]\n",
    "    for i in range(col):\n",
    "        #create list to pick random number from, based on a, b, c represented by 0,1,2\n",
    "        initialbox = [0] * 2 * box[0] + [1] * 2 * box[1] + [2] * box[2]\n",
    "        \n",
    "        #check it is not just one species remaining\n",
    "        if len(set(initialbox)) == 1:\n",
    "            break\n",
    "\n",
    "        #pick two different random particles from this list\n",
    "        p1, p2 = random.sample(initialbox, 2)\n",
    "        while p1 == p2:\n",
    "            p1, p2 = random.sample(initialbox, 2)\n",
    "\n",
    "        #the third particle is the species not chosen randomly \n",
    "        p3 = 3 - (p1 + p2)\n",
    "\n",
    "        #let the reaction begin\n",
    "        box[p1] -= 1\n",
    "        box[p2] -= 1 \n",
    "        box[p3] += 2 \n",
    "\n",
    "        #track intermediate box states\n",
    "        results.append(list(box))\n",
    "    \n",
    "    return results\n",
    "\n",
    "\n",
    "#construct box\n",
    "box = [500,500,0]\n",
    "\n",
    "#run simulation\n",
    "results = simulate_random(box, 1000)\n",
    "\n",
    "#print results and display the final state on a graph\n",
    "#print(results)\n",
    "plt.bar(range(len(results[-1])), results[-1], color=['red', 'green', 'blue'])\n",
    "plt.xlabel('Species')\n",
    "plt.ylabel('Number of Particles')\n",
    "plt.xticks(range(len(results[-1])), ['A', 'B', 'C'])\n",
    "plt.ylim(0, max(max(result) for result in results) + 5)\n",
    "plt.grid()\n",
    "plt.title('$(500,500,0)$ after $1000$ collisions')\n",
    "plt.show()\n"
   ]
  },
  {
   "cell_type": "markdown",
   "metadata": {},
   "source": [
    "ANIMATE!"
   ]
  },
  {
   "cell_type": "code",
   "execution_count": 15,
   "metadata": {},
   "outputs": [],
   "source": [
    "fig, ax = plt.subplots()\n",
    "\n",
    "def animate_frame(frame):\n",
    "    ax.clear()\n",
    "    ax.bar(range(len(results[frame])), results[frame], color=['red', 'green', 'blue'])\n",
    "    ax.set_title('State of box after {}'.format(frame+1)+' collisions')\n",
    "    ax.set_xlabel('Species')\n",
    "    ax.set_ylabel('Number of Particles')\n",
    "    ax.set_xticks(range(len(results[frame])))\n",
    "    ax.set_xticklabels(['A', 'B', 'C'])\n",
    "    ax.set_ylim(0, max(max(result) for result in results) + 50)\n",
    "    ax.yaxis.set_major_locator(ticker.MaxNLocator(integer=True))\n",
    "    ax.grid()\n",
    "\n",
    "\n",
    "ani = FuncAnimation(fig, animate_frame, frames=len(\n",
    "    results), interval=1, repeat=1)\n",
    "    \n",
    "#ani.save('test.mp4', writer='ffmpeg')\n",
    "\n",
    "plt.show()\n"
   ]
  },
  {
   "cell_type": "markdown",
   "metadata": {},
   "source": [
    "Extension"
   ]
  },
  {
   "cell_type": "code",
   "execution_count": 23,
   "metadata": {},
   "outputs": [],
   "source": [
    "#function to simulate the random collisions, repeating col times\n",
    "def simulate_random(box, col):\n",
    "    results = [[box[0], box[1], box[2]]]\n",
    "    for i in range(col):\n",
    "        #create list to pick random number from, based on a, b, c represented by 0,1,2\n",
    "        initialbox = [0] * box[0] + [1] * box[1] + [2] * box[2]\n",
    "\n",
    "        #check it is not just one species remaining\n",
    "        if len(set(initialbox)) == 1:\n",
    "            break\n",
    "\n",
    "        #pick two different random particles from this list\n",
    "        p1, p2 = random.sample(initialbox, 2)\n",
    "        while p1 == p2 or (p1 == 1 and p2 == 2):\n",
    "            p1, p2 = random.sample(initialbox, 2)\n",
    "\n",
    "        #the third particle is the species not chosen randomly\n",
    "        p3 = 3 - (p1 + p2)\n",
    "\n",
    "        #let the reaction begin\n",
    "        box[p1] -= 1\n",
    "        box[p2] -= 1\n",
    "        box[p3] += 2\n",
    "\n",
    "        #track intermediate box states\n",
    "        results.append(list(box))\n",
    "\n",
    "    return results\n",
    "\n",
    "\n",
    "#construct box\n",
    "box = [500, 500, 0]\n",
    "\n",
    "#run simulation\n",
    "results = simulate_random(box, 1000)\n",
    "\n",
    "#print results and display the final state on a graph\n",
    "#print(results)\n",
    "plt.bar(range(len(results[-1])), results[-1], color=['red', 'green', 'blue'])\n",
    "plt.xlabel('Species')\n",
    "plt.ylabel('Number of Particles')\n",
    "plt.xticks(range(len(results[-1])), ['A', 'B', 'C'])\n",
    "plt.ylim(0, max(max(result) for result in results) + 5)\n",
    "plt.grid()\n",
    "plt.title('$(500,500,0)$ after $1000$ collisions')\n",
    "plt.show()\n"
   ]
  }
 ],
 "metadata": {
  "interpreter": {
   "hash": "6339e4209cfe5b4130cb53a5ecf3f524526742f77ad808de8ef683f539ebf6f9"
  },
  "kernelspec": {
   "display_name": "Python 3.9.7",
   "language": "python",
   "name": "python3"
  },
  "language_info": {
   "codemirror_mode": {
    "name": "ipython",
    "version": 3
   },
   "file_extension": ".py",
   "mimetype": "text/x-python",
   "name": "python",
   "nbconvert_exporter": "python",
   "pygments_lexer": "ipython3",
   "version": "3.9.7"
  },
  "orig_nbformat": 4
 },
 "nbformat": 4,
 "nbformat_minor": 2
}

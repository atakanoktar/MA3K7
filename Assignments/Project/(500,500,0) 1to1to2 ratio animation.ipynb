{
 "cells": [
  {
   "cell_type": "markdown",
   "metadata": {},
   "source": [
    "I can't get ffmpeg to work and so save my animation so here is the code for just the animation, running the cell should produce the plot."
   ]
  },
  {
   "cell_type": "code",
   "execution_count": 1,
   "metadata": {},
   "outputs": [
    {
     "name": "stdout",
     "output_type": "stream",
     "text": [
      "Using matplotlib backend: MacOSX\n"
     ]
    }
   ],
   "source": [
    "#import libraries\n",
    "import pandas as pd\n",
    "import random\n",
    "import matplotlib.ticker as ticker\n",
    "import matplotlib.pyplot as plt\n",
    "import numpy as np\n",
    "from matplotlib.animation import FuncAnimation\n",
    "%matplotlib\n",
    "\n",
    "#function to simulate the random collisions, repeating col times\n",
    "def simulate_random(box, col):\n",
    "    results = [[box[0], box[1], box[2]]]\n",
    "    for i in range(col):\n",
    "        #create list to pick random number from, based on a, b, c represented by 0,1,2\n",
    "        initialbox = [0] * 2*box[0] + [1] * 2*box[1] + [2] * box[2]\n",
    "\n",
    "        #check it is not just one species remaining\n",
    "        if len(set(initialbox)) == 1:\n",
    "            break\n",
    "\n",
    "        #pick two different random particles from this list\n",
    "        p1, p2 = random.sample(initialbox, 2)\n",
    "        while p1 == p2:\n",
    "            p1, p2 = random.sample(initialbox, 2)\n",
    "\n",
    "        #the third particle is the species not chosen randomly\n",
    "        p3 = 3 - (p1 + p2)\n",
    "\n",
    "        #let the reaction begin\n",
    "        box[p1] -= 1\n",
    "        box[p2] -= 1\n",
    "        box[p3] += 2\n",
    "\n",
    "        #track intermediate box states\n",
    "        results.append(list(box))\n",
    "\n",
    "    return results\n",
    "\n",
    "\n",
    "#construct box\n",
    "box = [500, 500, 0]\n",
    "\n",
    "#run simulation\n",
    "results = simulate_random(box, 1000)\n",
    "\n",
    "fig, ax = plt.subplots()\n",
    "\n",
    "\n",
    "def animate_frame(frame):\n",
    "    ax.clear()\n",
    "    ax.bar(range(len(results[frame])), results[frame],\n",
    "           color=['red', 'green', 'blue'])\n",
    "    ax.set_title('State of box after {}'.format(frame+1)+' collisions')\n",
    "    ax.set_xlabel('Species')\n",
    "    ax.set_ylabel('Number of Particles')\n",
    "    ax.set_xticks(range(len(results[frame])))\n",
    "    ax.set_xticklabels(['A', 'B', 'C'])\n",
    "    ax.set_ylim(0, max(max(result) for result in results) + 50)\n",
    "    ax.yaxis.set_major_locator(ticker.MaxNLocator(integer=True))\n",
    "    ax.grid()\n",
    "\n",
    "\n",
    "ani = FuncAnimation(fig, animate_frame, frames=len(\n",
    "    results), interval=1, repeat=1)\n",
    "\n",
    "#ani.save('test.mp4', writer='ffmpeg')\n",
    "\n",
    "plt.show()\n"
   ]
  },
  {
   "cell_type": "code",
   "execution_count": null,
   "metadata": {},
   "outputs": [],
   "source": []
  }
 ],
 "metadata": {
  "interpreter": {
   "hash": "6339e4209cfe5b4130cb53a5ecf3f524526742f77ad808de8ef683f539ebf6f9"
  },
  "kernelspec": {
   "display_name": "Python 3.9.7",
   "language": "python",
   "name": "python3"
  },
  "language_info": {
   "codemirror_mode": {
    "name": "ipython",
    "version": 3
   },
   "file_extension": ".py",
   "mimetype": "text/x-python",
   "name": "python",
   "nbconvert_exporter": "python",
   "pygments_lexer": "ipython3",
   "version": "3.9.7"
  },
  "orig_nbformat": 4
 },
 "nbformat": 4,
 "nbformat_minor": 2
}

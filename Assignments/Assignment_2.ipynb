{
 "cells": [
  {
   "cell_type": "code",
   "execution_count": 58,
   "metadata": {},
   "outputs": [
    {
     "name": "stdout",
     "output_type": "stream",
     "text": [
      "0 -1 -1\n",
      "-1 -1 -1\n",
      "-1 -1 -1\n",
      "---------\n",
      "0 -1 -1\n",
      "-1 -1 -1\n",
      "1 -1 -1\n",
      "---------\n",
      "0 0 -1\n",
      "-1 -1 -1\n",
      "1 -1 -1\n",
      "---------\n",
      "0 0 -1\n",
      "-1 -1 -1\n",
      "1 -1 1\n",
      "---------\n",
      "0 0 0\n",
      "-1 -1 -1\n",
      "1 -1 1\n",
      "---------\n",
      "0 0 0\n",
      "-1 1 -1\n",
      "1 -1 1\n",
      "---------\n",
      "0 0 0\n",
      "0 1 -1\n",
      "1 -1 1\n",
      "---------\n",
      "0 0 0\n",
      "0 1 1\n",
      "1 -1 1\n",
      "---------\n",
      "0 0 0\n",
      "0 1 1\n",
      "1 0 1\n",
      "---------\n",
      "You win\n"
     ]
    }
   ],
   "source": [
    "#import libraries\n",
    "import numpy as np \n",
    "\n",
    "rng = np.random.default_rng()\n",
    "\n",
    "\n",
    "#function to display the matrix\n",
    "def display(matrix):\n",
    "    print(matrix[0][0], matrix[0][1], matrix[0][2])\n",
    "    print(matrix[1][0], matrix[1][1], matrix[1][2])\n",
    "    print(matrix[2][0], matrix[2][1],  matrix[2][2])\n",
    "    print('---------')\n",
    "\n",
    "\n",
    "#the game\n",
    "def game(myturn):\n",
    "    while not gameover(matrix):\n",
    "        if myturn:\n",
    "            entry = str(\n",
    "                input('Enter the row and column you would like to add a zero to:'))\n",
    "            checkinput(entry)\n",
    "            matrix[int(entry[0])][int(entry[1])] = 0\n",
    "            display(matrix)\n",
    "            myturn = False \n",
    "        else:\n",
    "            while True:\n",
    "                a = rng.integers(0, 3)\n",
    "                b = rng.integers(0, 3)\n",
    "                if matrix[a][b] == -1:\n",
    "                    matrix[a][b] = 1\n",
    "                    display(matrix)\n",
    "                    break\n",
    "            myturn = True\n",
    "    if np.linalg.det(np.array(matrix, dtype='float')) == 0:\n",
    "        print('You win')\n",
    "    else: \n",
    "        print('You lose')\n",
    "\n",
    "#checks the input given is not already taken\n",
    "def checkinput(entry):\n",
    "    while True:\n",
    "        if matrix[int(entry[0])][int(entry[1])] != -1 and matrix[int(entry[0])][int(entry[1])] != 0 and matrix[int(entry[0])][int(entry[1])] != 1:\n",
    "            print('This entry is already full. Pick another one.')\n",
    "            entry = str(\n",
    "                input('Enter the row and column you would like to add a zero to:'))\n",
    "        else:\n",
    "            return entry\n",
    "\n",
    "#function to se when all entries are full and the game is over\n",
    "def gameover(matrix):\n",
    "    return not any(-1 in row for row in matrix)\n",
    "\n",
    "myturn = True  #True for you to start, False for bot to start\n",
    "\n",
    "\n",
    "matrix = [[-1, -1, -1], [-1, -1, -1], [-1, -1, -1]]\n",
    "\n",
    "\n",
    "\n",
    "game(myturn) # Enter the entry you want to play in in the following form:\n",
    "             # 00 means first row first column\n",
    "             # 12 means second row third column\n",
    "             # 22 means third row third column\n",
    "             # Note that the empty cells are denoted by -1\n",
    "\n"
   ]
  },
  {
   "cell_type": "code",
   "execution_count": 72,
   "metadata": {},
   "outputs": [
    {
     "name": "stdout",
     "output_type": "stream",
     "text": [
      " 1 1 -1 \n",
      " -1 1 1 \n",
      " -1 1 -1 \n",
      "---------\n",
      "Det= -4.0\n"
     ]
    }
   ],
   "source": [
    "#to play on your own, takes inputs other than 0 or 1 for the extension\n",
    "\n",
    "matrix = [['  ', '  ', '  '], ['  ', '  ', '  '], ['  ', '  ', '  ']]\n",
    "\n",
    "#display matrix function\n",
    "def display(matrix):\n",
    "    print(' ' + str(matrix[0][0]) + ' ' + str(matrix[0][1]) + ' ' + str(matrix[0][2]) + ' ')\n",
    "    print(' ' + str(matrix[1][0]) + ' ' + str(matrix[1][1]) + ' ' + str(matrix[1][2]) + ' ')\n",
    "    print(' ' + str(matrix[2][0]) + ' ' + str(matrix[2][1]) + ' ' + str(matrix[2][2]) + ' ')\n",
    "    print('---------')\n",
    "\n",
    "#cycles through each entry and lets you pick which value to put into the matrix\n",
    "for i in range(9):\n",
    "    matrix[int(np.floor(i/3))][i % 3] = int(input('Enter the value of the entry:')) \n",
    "\n",
    "display(matrix)\n",
    "\n",
    "#prints out the determinant \n",
    "print('Det=', np.linalg.det(matrix))\n"
   ]
  },
  {
   "cell_type": "code",
   "execution_count": 73,
   "metadata": {},
   "outputs": [
    {
     "data": {
      "image/png": "[encoded data removed]",
      "text/plain": [
       "<Figure size 432x288 with 1 Axes>"
      ]
     },
     "metadata": {
      "needs_background": "light"
     },
     "output_type": "display_data"
    }
   ],
   "source": [
    "import numpy as np\n",
    "import matplotlib.pyplot as plt\n",
    "import scipy.linalg as LA\n",
    "\n",
    "samples = 1e5\n",
    "Det = []\n",
    "\n",
    "for i in np.arange(samples):\n",
    "    A = np.random.choice([-1, 1], size=(3, 3))\n",
    "    detA = LA.det(A)\n",
    "    Det.append(detA)\n",
    "\n",
    "\n",
    "Max = max(Det)\n",
    "Min = min(Det)\n",
    "bins = np.arange(Min, Max+2) - 0.5\n",
    "\n",
    "plt.hist(Det, bins=bins, density=True)\n",
    "plt.grid()\n",
    "plt.xlabel('Det A')\n",
    "plt.ylabel('Probability')\n",
    "plt.show()\n"
   ]
  },
  {
   "cell_type": "code",
   "execution_count": null,
   "metadata": {},
   "outputs": [],
   "source": []
  }
 ],
 "metadata": {
  "interpreter": {
   "hash": "6339e4209cfe5b4130cb53a5ecf3f524526742f77ad808de8ef683f539ebf6f9"
  },
  "kernelspec": {
   "display_name": "Python 3.9.7 ('base')",
   "language": "python",
   "name": "python3"
  },
  "language_info": {
   "codemirror_mode": {
    "name": "ipython",
    "version": 3
   },
   "file_extension": ".py",
   "mimetype": "text/x-python",
   "name": "python",
   "nbconvert_exporter": "python",
   "pygments_lexer": "ipython3",
   "version": "3.9.7"
  },
  "orig_nbformat": 4
 },
 "nbformat": 4,
 "nbformat_minor": 2
}
